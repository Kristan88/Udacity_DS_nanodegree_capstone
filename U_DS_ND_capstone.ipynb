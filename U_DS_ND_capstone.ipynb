{
 "cells": [
  {
   "cell_type": "markdown",
   "id": "0cdf5a0d-0fd0-42e8-851a-eeb70a4cbc21",
   "metadata": {},
   "source": [
    "# Project overview"
   ]
  },
  {
   "cell_type": "markdown",
   "id": "a4c903be-ab10-4559-86fd-25a605d133af",
   "metadata": {},
   "source": [
    "The work done within this project was for the capstone project of Udacity's Data Scientist Nanodegree. The goal was to demostrate my understanding in the data science processes through a project that interests me. \n",
    "This project is about to classify songs into categories like Rock or Hip-Hop using predefined features created by The Echo Nest research group. I have chosen this project not only because I like music but because of the growing application of machine learning driven signal processing in other industries' use cases (like manufacturing, automotive etc) which I find very similar to the current project. \n",
    "In all cases one would have descriptive features derived from signals and could use for clustering or classifying the records to automatize engineering processes. "
   ]
  },
  {
   "cell_type": "markdown",
   "id": "10f2ea08-6169-4d05-a77d-959993db807d",
   "metadata": {},
   "source": [
    "# Problem statement"
   ]
  },
  {
   "cell_type": "markdown",
   "id": "2c385daa-0d66-436d-971d-d9356969f7bd",
   "metadata": {},
   "source": [
    "To make a relevant recommendation for a customer who wants to listen rock music, the streamer should avoid recommending any other type of music. Features from songs are determined by some criteria and the task of the machine larning model is to decide its genre (in this specific case only binary classification is applied -- rock or hip-hop--) using those features.\n",
    "My main objective is to find a model that can classify song with high accuracy and also study what could affect the effectiveness of a modell."
   ]
  },
  {
   "cell_type": "markdown",
   "id": "633edfb9-8b23-472c-ab21-42e10185d91c",
   "metadata": {},
   "source": [
    "# Metrics"
   ]
  },
  {
   "cell_type": "markdown",
   "id": "b44da022-6c2e-4bea-839d-b4d6f8f353b0",
   "metadata": {},
   "source": [
    "To measure how well our model predicts classes, it is reasonable to calculate precision, recall and F-1 score. \n",
    "\n",
    "Precision = (TP)/(TP+FP)\n",
    "When to use: Precision is a good choice in our metrics when we want to be very sure of our prediction.\n",
    "\n",
    "Recall = (TP)/(TP+FN)\n",
    "When to use: Recall is a good choice in our metrics when we want to capture as many positives as possible.\n",
    "\n",
    "F1 score = 2 x (precision x recall)/(precision+recall)\n",
    "when to use: F1 score is a good choice if we want to select a model with high precision and high recall.\n",
    "\n",
    "Additionally, I have used ROC (Receiver Operating Characteristics)-AUC (Area Under The Curve) curves as well to analyze the performance of the models. ROC is a probability curve and AUC represents the degree or measure of separability. It tells how much the model is capable of distinguishing between classes."
   ]
  },
  {
   "cell_type": "markdown",
   "id": "cf8a6865-303d-45d2-8103-3f0a35a93104",
   "metadata": {},
   "source": [
    "# Data exploration and visualization"
   ]
  },
  {
   "cell_type": "markdown",
   "id": "44e67528-6fd8-4db6-87e9-aaa79f009ff8",
   "metadata": {},
   "source": [
    "The two files that are used during this project contain the track's metadata and derived values created by The Echo Nest group. The first is in csv file format while the later is in json format. After reading the files we can explore their columns and values only printing the first few rows.\n",
    "\n",
    "In the track metadata file the genre_top column indicates the type of the song; whether it is rock or hip-hop. Besides this one can find information e.g. about the composer, the date of the record and duration of the track.\n",
    "\n",
    "In the echonest file we can check the number and type of derived values that were prepared. All features have a range between zero and 1 only the tempo has a value range of 29-250 which is two order higher.\n",
    "\n",
    "By merging the the two file via the track_id we can assigne the genre_top of the track to its derived values."
   ]
  },
  {
   "cell_type": "code",
   "execution_count": null,
   "id": "930d029b-aa5e-4f7e-aad4-e186daadb68c",
   "metadata": {
    "dc": {
     "key": "3"
    },
    "tags": [
     "sample_code"
    ]
   },
   "outputs": [
    {
     "data": {
      "application/com.datacamp.data-table.v1+json": {
       "is_truncated": false,
       "table": {
        "data": [
         {
          "acousticness": 4802,
          "danceability": 4802,
          "energy": 4802,
          "index": "count",
          "instrumentalness": 4802,
          "liveness": 4802,
          "speechiness": 4802,
          "tempo": 4802,
          "track_id": 4802,
          "valence": 4802
         },
         {
          "acousticness": 0.4870599992,
          "danceability": 0.4365556606,
          "energy": 0.6251262116,
          "index": "mean",
          "instrumentalness": 0.6040961495,
          "liveness": 0.1879973581,
          "speechiness": 0.1048772135,
          "tempo": 126.6879437734,
          "track_id": 30164.8717201166,
          "valence": 0.453413387
         },
         {
          "acousticness": 0.3681395996,
          "danceability": 0.1835016649,
          "energy": 0.2440506831,
          "index": "std",
          "instrumentalness": 0.3764871936,
          "liveness": 0.1505619119,
          "speechiness": 0.1459343586,
          "tempo": 34.0024726738,
          "track_id": 28592.0137959378,
          "valence": 0.2666318668
         },
         {
          "acousticness": 9.491e-07,
          "danceability": 0.051307487,
          "energy": 0.000278548,
          "index": "min",
          "instrumentalness": 0,
          "liveness": 0.0252973415,
          "speechiness": 0.0232337297,
          "tempo": 29.093,
          "track_id": 2,
          "valence": 0.0143921742
         },
         {
          "acousticness": 0.0835123558,
          "danceability": 0.2960468332,
          "energy": 0.4507569103,
          "index": "25%",
          "instrumentalness": 0.1649721884,
          "liveness": 0.10405202,
          "speechiness": 0.0368965327,
          "tempo": 98.00075,
          "track_id": 7494.25,
          "valence": 0.224616525
         },
         {
          "acousticness": 0.515688756,
          "danceability": 0.4194473639,
          "energy": 0.6483742393,
          "index": "50%",
          "instrumentalness": 0.8087524566,
          "liveness": 0.1230803274,
          "speechiness": 0.0495935214,
          "tempo": 124.6255,
          "track_id": 20723.5,
          "valence": 0.4462395007
         },
         {
          "acousticness": 0.8555765136,
          "danceability": 0.5653386378,
          "energy": 0.8370158772,
          "index": "75%",
          "instrumentalness": 0.9154716493,
          "liveness": 0.2151506768,
          "speechiness": 0.0882901431,
          "tempo": 151.45,
          "track_id": 44240.75,
          "valence": 0.6669142154
         },
         {
          "acousticness": 0.9957964501,
          "danceability": 0.9618706942,
          "energy": 0.999767599,
          "index": "max",
          "instrumentalness": 0.9931342795,
          "liveness": 0.9713922939,
          "speechiness": 0.9661774074,
          "tempo": 250.059,
          "track_id": 124722,
          "valence": 0.9836492001
         }
        ],
        "schema": {
         "fields": [
          {
           "name": "index",
           "type": "string"
          },
          {
           "name": "track_id",
           "type": "number"
          },
          {
           "name": "acousticness",
           "type": "number"
          },
          {
           "name": "danceability",
           "type": "number"
          },
          {
           "name": "energy",
           "type": "number"
          },
          {
           "name": "instrumentalness",
           "type": "number"
          },
          {
           "name": "liveness",
           "type": "number"
          },
          {
           "name": "speechiness",
           "type": "number"
          },
          {
           "name": "tempo",
           "type": "number"
          },
          {
           "name": "valence",
           "type": "number"
          }
         ],
         "pandas_version": "0.20.0",
         "primaryKey": [
          "index"
         ]
        }
       },
       "total_rows": 8
      },
      "text/html": [
       "<div>\n",
       "<style scoped>\n",
       "    .dataframe tbody tr th:only-of-type {\n",
       "        vertical-align: middle;\n",
       "    }\n",
       "\n",
       "    .dataframe tbody tr th {\n",
       "        vertical-align: top;\n",
       "    }\n",
       "\n",
       "    .dataframe thead th {\n",
       "        text-align: right;\n",
       "    }\n",
       "</style>\n",
       "<table border=\"1\" class=\"dataframe\">\n",
       "  <thead>\n",
       "    <tr style=\"text-align: right;\">\n",
       "      <th></th>\n",
       "      <th>track_id</th>\n",
       "      <th>acousticness</th>\n",
       "      <th>danceability</th>\n",
       "      <th>energy</th>\n",
       "      <th>instrumentalness</th>\n",
       "      <th>liveness</th>\n",
       "      <th>speechiness</th>\n",
       "      <th>tempo</th>\n",
       "      <th>valence</th>\n",
       "    </tr>\n",
       "  </thead>\n",
       "  <tbody>\n",
       "    <tr>\n",
       "      <th>count</th>\n",
       "      <td>4802.000000</td>\n",
       "      <td>4.802000e+03</td>\n",
       "      <td>4802.000000</td>\n",
       "      <td>4802.000000</td>\n",
       "      <td>4802.000000</td>\n",
       "      <td>4802.000000</td>\n",
       "      <td>4802.000000</td>\n",
       "      <td>4802.000000</td>\n",
       "      <td>4802.000000</td>\n",
       "    </tr>\n",
       "    <tr>\n",
       "      <th>mean</th>\n",
       "      <td>30164.871720</td>\n",
       "      <td>4.870600e-01</td>\n",
       "      <td>0.436556</td>\n",
       "      <td>0.625126</td>\n",
       "      <td>0.604096</td>\n",
       "      <td>0.187997</td>\n",
       "      <td>0.104877</td>\n",
       "      <td>126.687944</td>\n",
       "      <td>0.453413</td>\n",
       "    </tr>\n",
       "    <tr>\n",
       "      <th>std</th>\n",
       "      <td>28592.013796</td>\n",
       "      <td>3.681396e-01</td>\n",
       "      <td>0.183502</td>\n",
       "      <td>0.244051</td>\n",
       "      <td>0.376487</td>\n",
       "      <td>0.150562</td>\n",
       "      <td>0.145934</td>\n",
       "      <td>34.002473</td>\n",
       "      <td>0.266632</td>\n",
       "    </tr>\n",
       "    <tr>\n",
       "      <th>min</th>\n",
       "      <td>2.000000</td>\n",
       "      <td>9.491000e-07</td>\n",
       "      <td>0.051307</td>\n",
       "      <td>0.000279</td>\n",
       "      <td>0.000000</td>\n",
       "      <td>0.025297</td>\n",
       "      <td>0.023234</td>\n",
       "      <td>29.093000</td>\n",
       "      <td>0.014392</td>\n",
       "    </tr>\n",
       "    <tr>\n",
       "      <th>25%</th>\n",
       "      <td>7494.250000</td>\n",
       "      <td>8.351236e-02</td>\n",
       "      <td>0.296047</td>\n",
       "      <td>0.450757</td>\n",
       "      <td>0.164972</td>\n",
       "      <td>0.104052</td>\n",
       "      <td>0.036897</td>\n",
       "      <td>98.000750</td>\n",
       "      <td>0.224617</td>\n",
       "    </tr>\n",
       "    <tr>\n",
       "      <th>50%</th>\n",
       "      <td>20723.500000</td>\n",
       "      <td>5.156888e-01</td>\n",
       "      <td>0.419447</td>\n",
       "      <td>0.648374</td>\n",
       "      <td>0.808752</td>\n",
       "      <td>0.123080</td>\n",
       "      <td>0.049594</td>\n",
       "      <td>124.625500</td>\n",
       "      <td>0.446240</td>\n",
       "    </tr>\n",
       "    <tr>\n",
       "      <th>75%</th>\n",
       "      <td>44240.750000</td>\n",
       "      <td>8.555765e-01</td>\n",
       "      <td>0.565339</td>\n",
       "      <td>0.837016</td>\n",
       "      <td>0.915472</td>\n",
       "      <td>0.215151</td>\n",
       "      <td>0.088290</td>\n",
       "      <td>151.450000</td>\n",
       "      <td>0.666914</td>\n",
       "    </tr>\n",
       "    <tr>\n",
       "      <th>max</th>\n",
       "      <td>124722.000000</td>\n",
       "      <td>9.957965e-01</td>\n",
       "      <td>0.961871</td>\n",
       "      <td>0.999768</td>\n",
       "      <td>0.993134</td>\n",
       "      <td>0.971392</td>\n",
       "      <td>0.966177</td>\n",
       "      <td>250.059000</td>\n",
       "      <td>0.983649</td>\n",
       "    </tr>\n",
       "  </tbody>\n",
       "</table>\n",
       "</div>"
      ],
      "text/plain": [
       "            track_id  acousticness  danceability       energy  \\\n",
       "count    4802.000000  4.802000e+03   4802.000000  4802.000000   \n",
       "mean    30164.871720  4.870600e-01      0.436556     0.625126   \n",
       "std     28592.013796  3.681396e-01      0.183502     0.244051   \n",
       "min         2.000000  9.491000e-07      0.051307     0.000279   \n",
       "25%      7494.250000  8.351236e-02      0.296047     0.450757   \n",
       "50%     20723.500000  5.156888e-01      0.419447     0.648374   \n",
       "75%     44240.750000  8.555765e-01      0.565339     0.837016   \n",
       "max    124722.000000  9.957965e-01      0.961871     0.999768   \n",
       "\n",
       "       instrumentalness     liveness  speechiness        tempo      valence  \n",
       "count       4802.000000  4802.000000  4802.000000  4802.000000  4802.000000  \n",
       "mean           0.604096     0.187997     0.104877   126.687944     0.453413  \n",
       "std            0.376487     0.150562     0.145934    34.002473     0.266632  \n",
       "min            0.000000     0.025297     0.023234    29.093000     0.014392  \n",
       "25%            0.164972     0.104052     0.036897    98.000750     0.224617  \n",
       "50%            0.808752     0.123080     0.049594   124.625500     0.446240  \n",
       "75%            0.915472     0.215151     0.088290   151.450000     0.666914  \n",
       "max            0.993134     0.971392     0.966177   250.059000     0.983649  "
      ]
     },
     "execution_count": 2,
     "metadata": {},
     "output_type": "execute_result"
    }
   ],
   "source": [
    "import pandas as pd\n",
    "import matplotlib.pyplot as plt\n",
    "import seaborn as sns\n",
    "import numpy as np\n",
    "\n",
    "# Read in track metadata \n",
    "tracks = pd.read_csv('datasets/fma-rock-vs-hiphop.csv')\n",
    "\n",
    "# Read in track metrics w\n",
    "echonest_metrics = pd.read_json('datasets/echonest-metrics.json',precise_float=True)\n",
    "\n",
    "# Merge the relevant columns of tracks and echonest_metrics\n",
    "echo_tracks = echonest_metrics.merge(tracks[['track_id','genre_top']], on = 'track_id')\n",
    "\n",
    "echo_tracks.describe()"
   ]
  },
  {
   "cell_type": "markdown",
   "id": "d353a062-542d-4d57-b980-7acc29b0a816",
   "metadata": {},
   "source": [
    "With distribution plots one analyze the shape of the values' distribution, the peaks, and the overlap of the two classes' values.\n",
    "\n",
    "Only looking at the distribution plots it is not possible to distinguish the values of the two type of songs. The values have a wide overlap. Maybe the danceability os the only one having left skewed values for Rock and right skewed values for Hip-Hop. Regarding to the other features, both class either have two peaks or very flat."
   ]
  },
  {
   "cell_type": "code",
   "execution_count": null,
   "id": "521f75a4-7174-4f22-a355-4bfd147daf7f",
   "metadata": {},
   "outputs": [],
   "source": [
    "echo_tracks_melt = echo_tracks[['acousticness', 'danceability', 'energy','instrumentalness', 'liveness', 'speechiness', 'valence','genre_top']].melt(id_vars='genre_top')\n"
   ]
  },
  {
   "cell_type": "code",
   "execution_count": null,
   "id": "1493068f-472b-4342-af8c-606143f3813d",
   "metadata": {},
   "outputs": [
    {
     "data": {
      "image/png": "[encoded data removed]",
      "text/plain": [
       "<Figure size 2596x360 with 7 Axes>"
      ]
     },
     "metadata": {
      "needs_background": "light"
     },
     "output_type": "display_data"
    }
   ],
   "source": [
    "g = sns.displot(\n",
    "    data=echo_tracks_melt,\n",
    "    x='value', \n",
    "    hue='genre_top', \n",
    "    kind='hist', \n",
    "    fill=True,\n",
    "    col='variable',\n",
    "    bins=100\n",
    ")"
   ]
  },
  {
   "cell_type": "markdown",
   "id": "9b55acbc-df3f-4142-aa8b-039a14d8137f",
   "metadata": {},
   "source": [
    "The tempo feature was separately visualized because of the altered value range. "
   ]
  },
  {
   "cell_type": "code",
   "execution_count": null,
   "id": "3a46c494-d0d1-4d40-bc45-1c9adae988ee",
   "metadata": {},
   "outputs": [
    {
     "data": {
      "image/png": "[encoded data removed]",
      "text/plain": [
       "<Figure size 616x360 with 1 Axes>"
      ]
     },
     "metadata": {
      "needs_background": "light"
     },
     "output_type": "display_data"
    }
   ],
   "source": [
    "tempo_distplot = sns.displot(data=echo_tracks, x='tempo', hue='genre_top', kind='hist', height=5, aspect=1.5)"
   ]
  },
  {
   "cell_type": "markdown",
   "id": "4407e554-ad14-4d43-86ee-02f9bedae480",
   "metadata": {},
   "source": [
    "Strong correlations between variables should generally be avoided in order to simplify the model and make it easier to interpret (with many features, we run the risk of overfitting) furthermore our computation time can be significantly speed up.\n",
    "\n",
    "Pandas corr() function is used to calculate -as a default- pearson correlation coefficient which examines the linear dependency of the features. Heatmap is a good visulaization method to present the correlation matrix by indicating - in the case of our chosen colorpalette - high positive correlation (in case of feature values are moving in the same direction) with darker red while high negative correlation (in case of feature values are moving in the opposite direction) with darker blue. Light red and light blue values show low correlation.\n",
    "\n",
    "It is enough to show only the part below the matrix diagonal since values are mirrored.\n",
    "\n",
    "In this dataset the highest correlation is 0.47 which means a medium correlation, thus we can conclude that there are no strongly correlated features which could negatively influence our model performance."
   ]
  },
  {
   "cell_type": "code",
   "execution_count": null,
   "id": "c6c19398-520e-4771-8711-c2aa153f3b37",
   "metadata": {},
   "outputs": [
    {
     "data": {
      "image/png": "[encoded data removed]",
      "text/plain": [
       "<Figure size 720x576 with 2 Axes>"
      ]
     },
     "metadata": {
      "needs_background": "light"
     },
     "output_type": "display_data"
    }
   ],
   "source": [
    "# Calculate pairwise-correlation\n",
    "matrix = echo_tracks.corr()\n",
    "\n",
    "# Create a mask\n",
    "mask = np.triu(np.ones_like(matrix, dtype=bool))\n",
    "\n",
    "# Create a custom divergin palette\n",
    "cmap = sns.diverging_palette(250, 15, s=75, l=40,\n",
    "                            n=9, center=\"light\", as_cmap=True)\n",
    "\n",
    "plt.figure(figsize=(10, 8))\n",
    "sns.heatmap(matrix, mask=mask, center=0, annot=True,\n",
    "            fmt='.2f', square=True, cmap=cmap)\n",
    "\n",
    "plt.show();"
   ]
  },
  {
   "cell_type": "markdown",
   "id": "26844601-eedf-4e30-8700-54f4b1918afc",
   "metadata": {},
   "source": [
    "Using seaborn's countplot function one can discover of the number of labeled data which is a useful information when making machine learning models. We have to take care to have balanced data to reach good model performance.\n",
    "It seen below that songs with \"Rock\" label occur 4x more compared to songs with \"Hip-Hop\" label. We need to think about a startegy to handle this situation.\n",
    "But first let's keep everything as it is without balacing the dataset and see how will be the results."
   ]
  },
  {
   "cell_type": "code",
   "execution_count": null,
   "id": "8013f8d2-7d83-41f7-b660-779627e9bb64",
   "metadata": {},
   "outputs": [
    {
     "data": {
      "image/png": "[encoded data removed]",
      "text/plain": [
       "<Figure size 432x288 with 1 Axes>"
      ]
     },
     "metadata": {
      "needs_background": "light"
     },
     "output_type": "display_data"
    }
   ],
   "source": [
    "ax = sns.countplot(x=\"genre_top\", data=echo_tracks)"
   ]
  },
  {
   "cell_type": "markdown",
   "id": "361eb03d-3c8d-41ed-8df9-66f3aa409a67",
   "metadata": {
    "dc": {
     "key": "17"
    },
    "run_control": {
     "frozen": true
    },
    "tags": [
     "context"
    ]
   },
   "source": [
    "## Creating train and test sets\n",
    "We can now divide our data into an array containing our characteristics and another containing the labels — the genre of the songs — because we didn't uncover any especially strong relationships between our features.\n",
    "After separating the data into these arrays, we will carry out certain preprocessing operations to optimize the creation of our models."
   ]
  },
  {
   "cell_type": "code",
   "execution_count": null,
   "id": "49c61908-7e9f-4bf0-960b-e3210a7423a9",
   "metadata": {
    "dc": {
     "key": "17"
    },
    "tags": [
     "sample_code"
    ]
   },
   "outputs": [],
   "source": [
    "# Import train_test_split function \n",
    "from sklearn.model_selection import train_test_split\n",
    "\n",
    "# Create features by dropping track_id and genre_top\n",
    "features = echo_tracks.drop(columns=['track_id', 'genre_top'], axis=1).values\n",
    "\n",
    "# Create labels using genre_top\n",
    "labels = echo_tracks['genre_top'].values\n",
    "\n",
    "# Split our data into train and test features and labels\n",
    "train_features, test_features, train_labels, test_labels = train_test_split(features, labels, random_state=0)"
   ]
  },
  {
   "cell_type": "markdown",
   "id": "86e729de-2a7e-412a-b962-2ffa52ae2e00",
   "metadata": {
    "dc": {
     "key": "24"
    },
    "run_control": {
     "frozen": true
    },
    "tags": [
     "context"
    ]
   },
   "source": [
    "## Scaling data\n",
    "\n",
    "We do not want that one feature over-dominates the other thus creating bias in our model. Instead we would like to have our model equally handle feature values to get all important meaning out of them. To avoid feature dominance, we must normalize our train and test features. \n",
    "There are several ways to accomplish this, but the most popular one is standardization, where all features have a mean of 0 and a standard deviation of 1."
   ]
  },
  {
   "cell_type": "markdown",
   "id": "50ac26f3-4c77-41a4-9a9c-94532ee60f10",
   "metadata": {},
   "source": [
    "Please, note that we use fit_transform() for training features while transform() for test data.\n",
    "\n",
    "Everyone is aware that we use the transform() function for our test data and the fit transform() method for our training data. However, the real question is, \"Why do we do this?\"\n",
    "\n",
    "The training data is scaled and its scaling parameters are learned by applying fit transform() to the training data. The model we created in this case will discover the mean and variance of the characteristics in the training set. We then scale our test data using these newly learned parameters.\n",
    "\n",
    "The mean and variance determined from our training data can be used to change our test data using the transform method. We may therefore convert our test data using the parameters that our model learned from the training set.\n",
    "\n",
    "[reference: https://towardsdatascience.com/what-and-why-behind-fit-transform-vs-transform-in-scikit-learn-78f915cf96fe]"
   ]
  },
  {
   "cell_type": "code",
   "execution_count": null,
   "id": "4c489f4a-ab73-473d-98ce-c2dbe843b412",
   "metadata": {
    "dc": {
     "key": "24"
    },
    "tags": [
     "sample_code"
    ]
   },
   "outputs": [],
   "source": [
    "# Import the StandardScaler\n",
    "from sklearn.preprocessing import StandardScaler\n",
    "\n",
    "# creating s standar scaler object\n",
    "scaler = StandardScaler()\n",
    "\n",
    "# Scale train_features and test_features\n",
    "scaled_train_features = scaler.fit_transform(train_features)\n",
    "scaled_test_features = scaler.transform(test_features)"
   ]
  },
  {
   "cell_type": "markdown",
   "id": "6c698677-1b22-407f-9e74-0831c64d4033",
   "metadata": {},
   "source": [
    "## Building classification models"
   ]
  },
  {
   "cell_type": "markdown",
   "id": "af15149b-01bc-4b3d-9408-ef3fe2ee6ca7",
   "metadata": {},
   "source": [
    "Three machine larning algorithm will be compared to each other:\n",
    "    Random Forest,\n",
    "    Logistic Regression,\n",
    "    Gradient Boosting Tree.\n",
    "\n",
    "First, model objects are created with fixed random_state in order to obtain a deterministic behaviour during fitting.\n",
    "Then, models are fitted with scaled train features and train labels.\n",
    "Finally, labels are predicted from scaled test features."
   ]
  },
  {
   "cell_type": "code",
   "execution_count": null,
   "id": "bfce3ce3-dc86-4e54-9180-a52e9894ef03",
   "metadata": {},
   "outputs": [],
   "source": [
    "from sklearn.ensemble import RandomForestClassifier\n",
    "from sklearn.linear_model import LogisticRegression\n",
    "from sklearn.ensemble import GradientBoostingClassifier\n",
    "\n",
    "rf = RandomForestClassifier(random_state=0)\n",
    "lr = LogisticRegression(random_state=0)\n",
    "gb = GradientBoostingClassifier(random_state=0)\n",
    "\n",
    "rf.fit(scaled_train_features,train_labels)\n",
    "lr.fit(scaled_train_features,train_labels)\n",
    "gb.fit(scaled_train_features,train_labels)\n",
    "\n",
    "pred_labels_rf = rf.predict(scaled_test_features)\n",
    "pred_labels_lr = lr.predict(scaled_test_features)\n",
    "pred_labels_gb = gb.predict(scaled_test_features)"
   ]
  },
  {
   "cell_type": "markdown",
   "id": "27432cbc-8814-4717-9eee-0d824877d426",
   "metadata": {},
   "source": [
    "## Compare models"
   ]
  },
  {
   "cell_type": "markdown",
   "id": "15db62f8-6ea7-48e5-bf48-2f71e0bff4a6",
   "metadata": {},
   "source": [
    "Classification_report function is used to analyze models' performances. Precision, recall and F1-score values are calculated, moreover, ROC_AUC curves are plotted.\n",
    "\n",
    "From the classification reports we can see that all three models already have very high metric values (above 90% for precision, recall and F1-score) for Rock labels but they are much lower for Hip-Hop.\n",
    "\n",
    "ROC_AUC curves show that Rock labels of Random Forest model generate the largest area below the ROC curve meaning it has the highest performance. Gradient Boosting Tree model sligthly stays below while Logistic regression model has the poorest (but still quite good) performance."
   ]
  },
  {
   "cell_type": "code",
   "execution_count": null,
   "id": "350aa304-379c-4f67-953b-a369e078f553",
   "metadata": {},
   "outputs": [
    {
     "name": "stdout",
     "output_type": "stream",
     "text": [
      "Random Forest: \n",
      "               precision    recall  f1-score   support\n",
      "\n",
      "     Hip-Hop       0.81      0.73      0.76       237\n",
      "        Rock       0.93      0.96      0.95       964\n",
      "\n",
      "    accuracy                           0.91      1201\n",
      "   macro avg       0.87      0.84      0.86      1201\n",
      "weighted avg       0.91      0.91      0.91      1201\n",
      "\n",
      "Logistic Regression: \n",
      "               precision    recall  f1-score   support\n",
      "\n",
      "     Hip-Hop       0.76      0.59      0.66       237\n",
      "        Rock       0.90      0.95      0.93       964\n",
      "\n",
      "    accuracy                           0.88      1201\n",
      "   macro avg       0.83      0.77      0.79      1201\n",
      "weighted avg       0.87      0.88      0.88      1201\n",
      "\n",
      "Gradient Boosting Tree: \n",
      "               precision    recall  f1-score   support\n",
      "\n",
      "     Hip-Hop       0.80      0.73      0.77       237\n",
      "        Rock       0.94      0.96      0.95       964\n",
      "\n",
      "    accuracy                           0.91      1201\n",
      "   macro avg       0.87      0.84      0.86      1201\n",
      "weighted avg       0.91      0.91      0.91      1201\n",
      "\n"
     ]
    }
   ],
   "source": [
    "from sklearn.metrics import classification_report, plot_roc_curve\n",
    "from sklearn import metrics\n",
    "class_report_rf = classification_report(test_labels, pred_labels_rf)\n",
    "class_report_lr = classification_report(test_labels, pred_labels_lr)\n",
    "class_report_gb = classification_report(test_labels, pred_labels_gb)\n",
    "\n",
    "\n",
    "\n",
    "print(\"Random Forest: \\n\", class_report_rf)\n",
    "print(\"Logistic Regression: \\n\", class_report_lr)\n",
    "print(\"Gradient Boosting Tree: \\n\", class_report_gb)\n",
    "\n"
   ]
  },
  {
   "cell_type": "code",
   "execution_count": null,
   "id": "0ad3c63c-e562-460e-b53f-69ab938841af",
   "metadata": {},
   "outputs": [
    {
     "data": {
      "image/png": "[encoded data removed]",
      "text/plain": [
       "<Figure size 432x288 with 1 Axes>"
      ]
     },
     "metadata": {
      "needs_background": "light"
     },
     "output_type": "display_data"
    },
    {
     "data": {
      "image/png": "[encoded data removed]",
      "text/plain": [
       "<Figure size 432x288 with 1 Axes>"
      ]
     },
     "metadata": {
      "needs_background": "light"
     },
     "output_type": "display_data"
    },
    {
     "data": {
      "image/png": "[encoded data removed]",
      "text/plain": [
       "<Figure size 432x288 with 1 Axes>"
      ]
     },
     "metadata": {
      "needs_background": "light"
     },
     "output_type": "display_data"
    }
   ],
   "source": [
    "plot_roc_curve(rf, scaled_test_features, test_labels)\n",
    "plt.title('ROC_AUC curve for Random Forest model')\n",
    "plt.show()\n",
    "plot_roc_curve(lr, scaled_test_features, test_labels)\n",
    "plt.title('ROC_AUC curves for Logistic regression model')\n",
    "plt.show()\n",
    "plot_roc_curve(gb, scaled_test_features, test_labels)\n",
    "plt.title('ROC_AUC curves for Gradient Boosting Tree model')\n",
    "plt.show()"
   ]
  },
  {
   "cell_type": "markdown",
   "id": "5d9fe51c-261b-4bfb-a96b-de9608b4fa65",
   "metadata": {},
   "source": [
    "One possible solution to improve model performance regarding to Hip-Hop song classification is to balance the dataset. As we have seen there are 4 times more Rock labels compared to Hip-Hop labels which makes the dataset imbalanced. By oversampling or undersampling the dataset could help to overcome on this issue.\n",
    "\n",
    "Let's try first doing random oversampling on the Hip-Hop labels!"
   ]
  },
  {
   "cell_type": "markdown",
   "id": "e6418840-10a4-4123-85b6-88851ecd62fa",
   "metadata": {},
   "source": [
    "## Solving imbalanced dataset"
   ]
  },
  {
   "cell_type": "markdown",
   "id": "bc6ec494-8629-4858-926a-d00c0430b6fc",
   "metadata": {},
   "source": [
    "Creating an RandomOverSampler using the imblearn library, we can fit our dataset to get equal number for all class labels. After we have to again split the dataset for training and testing, finally repeating the model training procedure then we predict the labels from the test set, new results can be analyzed.\n",
    "\n",
    "Amazingly Random Forest model can almost perfectly indentify Rock and Hip-Hop songs as excellent ROC curves proves as well! Gradinet Boosting Tree also became very good and even Logistic Regression model has a very decent equally good performance for both labels.\n",
    "\n",
    "Can we even reach better performance? Another solution is to use feature reduction methods like PCA. Let's see if we can improve more even our Logistic regression model."
   ]
  },
  {
   "cell_type": "code",
   "execution_count": null,
   "id": "e630443a-9723-489c-9411-89ba0b7d1a69",
   "metadata": {},
   "outputs": [],
   "source": [
    "from imblearn.over_sampling import RandomOverSampler "
   ]
  },
  {
   "cell_type": "code",
   "execution_count": null,
   "id": "dd659862-f532-4949-a995-0199ad649cf0",
   "metadata": {},
   "outputs": [],
   "source": [
    "oversample = RandomOverSampler(sampling_strategy='minority')\n",
    "\n",
    "features_over, labels_over = oversample.fit_resample(features, labels)\n",
    "\n",
    "train_features, test_features, train_labels, test_labels = train_test_split(features_over, labels_over)\n",
    "\n",
    "scaled_train_features = scaler.fit_transform(train_features)\n",
    "\n",
    "scaled_test_features = scaler.transform(test_features)"
   ]
  },
  {
   "cell_type": "code",
   "execution_count": null,
   "id": "0735e4c1-9c14-4d4c-8a15-17c44c473790",
   "metadata": {},
   "outputs": [],
   "source": [
    "rf = RandomForestClassifier(random_state=0)\n",
    "lr = LogisticRegression(random_state=0)\n",
    "gb = GradientBoostingClassifier(random_state=0)\n",
    "\n",
    "rf.fit(scaled_train_features,train_labels)\n",
    "lr.fit(scaled_train_features,train_labels)\n",
    "gb.fit(scaled_train_features,train_labels)\n",
    "\n",
    "pred_labels_rf = rf.predict(scaled_test_features)\n",
    "pred_labels_lr = lr.predict(scaled_test_features)\n",
    "pred_labels_gb = gb.predict(scaled_test_features)"
   ]
  },
  {
   "cell_type": "code",
   "execution_count": null,
   "id": "0546450f-02f8-4045-82ac-744e2bd0644b",
   "metadata": {},
   "outputs": [],
   "source": [
    "class_report_rf = classification_report(test_labels, pred_labels_rf)\n",
    "class_report_lr = classification_report(test_labels, pred_labels_lr)\n",
    "class_report_gb = classification_report(test_labels, pred_labels_gb)\n",
    "\n",
    "\n",
    "\n",
    "print(\"Random Forest: \\n\", class_report_rf)\n",
    "print(\"Logistic Regression: \\n\", class_report_lr)\n",
    "print(\"Gradient Boosting Tree: \\n\", class_report_gb)"
   ]
  },
  {
   "cell_type": "code",
   "execution_count": null,
   "id": "a6072789-c66e-47de-b5c9-7e1aa27d7a22",
   "metadata": {},
   "outputs": [],
   "source": [
    "plot_roc_curve(rf, scaled_test_features, test_labels)\n",
    "plt.title('ROC_AUC curve for Random Forest model')\n",
    "plt.show()\n",
    "plot_roc_curve(lr, scaled_test_features, test_labels)\n",
    "plt.title('ROC_AUC curves for Logistic regression model')\n",
    "plt.show()\n",
    "plot_roc_curve(gb, scaled_test_features, test_labels)\n",
    "plt.title('ROC_AUC curves for Gradient Boosting Tree model')\n",
    "plt.show()"
   ]
  },
  {
   "cell_type": "markdown",
   "id": "0c37f4cc-b771-4a4e-af13-af0271bc6f3c",
   "metadata": {
    "dc": {
     "key": "31"
    },
    "run_control": {
     "frozen": true
    },
    "tags": [
     "context"
    ]
   },
   "source": [
    "## Principal Component Analysis \n",
    "\n",
    "It can be especially beneficial to simplify our models and use as few features as possible to achieve the best results. We can use Principal Component Analysis (PCA) to reduce the number of features.\n",
    "It is possible that only a few features in the dataset can explain the variation between genres. PCA rotates the data along the axis with the greatest variance, allowing us to calculate the relative contribution of each feature of our data to the variance between classes.\n"
   ]
  },
  {
   "cell_type": "markdown",
   "id": "c33600ff-4a59-4285-8517-a79027ceb4c0",
   "metadata": {},
   "source": [
    "We got as many PCA component as many features we have. One can see from the bar plots that the first component explains around 25% of the variance between the music genres, but unfortunately we cannot see a clear elbow where we should determine the limit for the best components.\n",
    "Thus it is useful to plot cumulative explained variances as well with a step plot. As a general practice, we can say, one should take all components below the limit where the cumsum reaches 85%. Following this rule, in our case six components are the ideal.\n",
    "\n"
   ]
  },
  {
   "cell_type": "code",
   "execution_count": null,
   "id": "4de81e94-16c9-4086-8b54-077c7c4151d4",
   "metadata": {
    "dc": {
     "key": "31"
    },
    "tags": [
     "sample_code"
    ]
   },
   "outputs": [],
   "source": [
    "# Import  PCA class\n",
    "from sklearn.decomposition import PCA\n",
    "\n",
    "pca = PCA()\n",
    "pca.fit(scaled_train_features)\n",
    "\n",
    "explained_variance = pca.explained_variance_ratio_\n",
    "# cumulative explained variance\n",
    "cum_explained_variance = np.cumsum(explained_variance)\n"
   ]
  },
  {
   "cell_type": "code",
   "execution_count": null,
   "id": "977a85de-aa29-42cd-ab1f-05ffcb06541c",
   "metadata": {
    "dc": {
     "key": "38"
    }
   },
   "outputs": [],
   "source": [
    "plt.bar(range(0,len(explained_variance)), explained_variance, alpha=0.5, align='center', label='Individual explained variance')\n",
    "plt.step(range(0,len(cum_explained_variance)), cum_explained_variance, where='mid',label='Cumulative explained variance')\n",
    "plt.ylabel('Explained variance ratio')\n",
    "plt.xlabel('Principal component index')\n",
    "plt.legend(loc='best')\n",
    "plt.tight_layout()\n",
    "plt.show()"
   ]
  },
  {
   "cell_type": "markdown",
   "id": "f802059b-097b-4a3a-bda5-8ed04ce5f891",
   "metadata": {
    "dc": {
     "key": "45"
    },
    "run_control": {
     "frozen": true
    },
    "tags": [
     "context"
    ]
   },
   "source": [
    "## Creating new models using PCA features\n"
   ]
  },
  {
   "cell_type": "markdown",
   "id": "8dfbf835-23db-4ff8-92f0-8456544bda21",
   "metadata": {},
   "source": [
    "As we saw before six is an ideal number for components that is why we set n_component=6 in the paramater when creating a pca object.\n",
    "\n",
    "Unfortunately we could not improve the performance of our Logistic Regression model. It got even worse for all three models, thus we should not use PCA in for this dataset."
   ]
  },
  {
   "cell_type": "code",
   "execution_count": null,
   "id": "3cf1a16d-875d-4d05-a6d5-37cd181efdd1",
   "metadata": {
    "dc": {
     "key": "45"
    },
    "tags": [
     "sample_code"
    ]
   },
   "outputs": [],
   "source": [
    "\n",
    "pca = PCA(n_components=6, random_state=0)\n",
    "\n",
    "# Fit and transform the scaled training features using pca\n",
    "train_pca = pca.fit_transform(scaled_train_features)\n",
    "\n",
    "# Fit and transform the scaled test features using pca\n",
    "test_pca = pca.transform(scaled_test_features)"
   ]
  },
  {
   "cell_type": "code",
   "execution_count": null,
   "id": "d5316333-043e-467a-ae36-37637339b4aa",
   "metadata": {},
   "outputs": [],
   "source": [
    "rf = RandomForestClassifier(random_state=0)\n",
    "lr = LogisticRegression(random_state=0)\n",
    "gb = GradientBoostingClassifier(random_state=0)\n",
    "\n",
    "rf.fit(train_pca,train_labels)\n",
    "lr.fit(train_pca,train_labels)\n",
    "gb.fit(train_pca,train_labels)\n",
    "\n",
    "pred_labels_rf = rf.predict(test_pca)\n",
    "pred_labels_lr = lr.predict(test_pca)\n",
    "pred_labels_gb = gb.predict(test_pca)"
   ]
  },
  {
   "cell_type": "code",
   "execution_count": null,
   "id": "2f1ca173-d576-4b12-aaa1-266701c5c3d5",
   "metadata": {},
   "outputs": [],
   "source": [
    "class_report_rf = classification_report(test_labels, pred_labels_rf)\n",
    "class_report_lr = classification_report(test_labels, pred_labels_lr)\n",
    "class_report_gb = classification_report(test_labels, pred_labels_gb)\n",
    "\n",
    "\n",
    "\n",
    "print(\"Random Forest: \\n\", class_report_rf)\n",
    "print(\"Logistic Regression: \\n\", class_report_lr)\n",
    "print(\"Gradient Boosting Tree: \\n\", class_report_gb)"
   ]
  },
  {
   "cell_type": "markdown",
   "id": "48282a59-5dfb-4a83-ae95-7de90ddfd9a7",
   "metadata": {},
   "source": [
    "## Summary"
   ]
  },
  {
   "cell_type": "markdown",
   "id": "06250530-c577-4104-aedd-369dafffc553",
   "metadata": {},
   "source": [
    "The goal of the project was to create a sofware solution which can distinguish song genres - like in this particular case rock and hip-hop songs - from each other using derived features.\n",
    "\n",
    "The derived features (8 feautures were created for each song) were built by The Echo Nest reasearch group.\n",
    "\n",
    "Feature data was analyzed by plotting histograms, creating correlation matrix and summary satistics. Label vector countplot showed that there are much more rock songs in the dataset than hip-hop songs.\n",
    "\n",
    "No strong correlation were found between features which is beneficial for a machine larning model.\n",
    "\n",
    "Feature scaling was applied in order to avoid some features being too dominant. We have seen that tempo feature had values two order higher than the others.\n",
    "\n",
    "Random Forest model was outperforming the two other (Logistic regression and Gradient Boosting Tree) models but hip-hop song label prediction performance was much behind rock label prediction capability.\n",
    "\n",
    "Data balancing was then applied in order to overcome this issue, which proved to be succesfull. All model improved a lot, and Random Forest (which was already very good) is now able perfectly distiguish rock and hip-hop songs.\n",
    "\n",
    "In order to still push the models to the limit PCA was applied to reduce feture numbers by creating new componenets, but this approach did not help at this particular dataset.\n",
    "\n"
   ]
  },
  {
   "cell_type": "markdown",
   "id": "262a9740-37d9-4396-b8a6-4c6eb5c68251",
   "metadata": {},
   "source": [
    "## Outlook"
   ]
  },
  {
   "cell_type": "markdown",
   "id": "0c3e9379-629f-4fb9-9929-7448729970c4",
   "metadata": {},
   "source": [
    "To have more valid labeled data for the application, we could ask customers to add feedback if the recommended song was really the one they wished to have; e.g. if the system correctly recommended a rock song for a users who was targeted with rock songs.  "
   ]
  },
  {
   "cell_type": "markdown",
   "id": "25084832-f8ec-4d68-bb3d-8a5de43393ec",
   "metadata": {},
   "source": [
    "## Acknowledgement"
   ]
  },
  {
   "cell_type": "markdown",
   "id": "5e57eccd-d70d-4ddf-8761-63607aeed494",
   "metadata": {},
   "source": [
    "I do really appreciate for The Echo Nest research group for making their dataset available."
   ]
  },
  {
   "cell_type": "code",
   "execution_count": null,
   "id": "f7c312a3-bfd5-494e-bcd9-f2e85bd14a68",
   "metadata": {},
   "outputs": [],
   "source": []
  }
 ],
 "metadata": {
  "editor": "DataCamp Workspace",
  "kernelspec": {
   "display_name": "Python 3 (ipykernel)",
   "language": "python",
   "name": "python3"
  },
  "language_info": {
   "codemirror_mode": {
    "name": "ipython",
    "version": 3
   },
   "file_extension": ".py",
   "mimetype": "text/x-python",
   "name": "python",
   "nbconvert_exporter": "python",
   "pygments_lexer": "ipython3",
   "version": "3.8.10"
  }
 },
 "nbformat": 4,
 "nbformat_minor": 5
}
